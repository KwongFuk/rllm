{
 "cells": [
  {
   "cell_type": "code",
   "execution_count": 1,
   "metadata": {},
   "outputs": [
    {
     "name": "stderr",
     "output_type": "stream",
     "text": [
      "/home/yue/anaconda3/envs/rllm/lib/python3.10/site-packages/tqdm/auto.py:21: TqdmWarning: IProgress not found. Please update jupyter and ipywidgets. See https://ipywidgets.readthedocs.io/en/stable/user_install.html\n",
      "  from .autonotebook import tqdm as notebook_tqdm\n"
     ]
    }
   ],
   "source": [
    "from datasets import load_dataset\n",
    "from datasets.features import Image  # ✅ 注意这里\n",
    "\n"
   ]
  },
  {
   "cell_type": "code",
   "execution_count": 2,
   "metadata": {},
   "outputs": [
    {
     "name": "stderr",
     "output_type": "stream",
     "text": [
      "Generating train split: 100%|██████████| 338721/338721 [00:08<00:00, 39638.34 examples/s]\n"
     ]
    }
   ],
   "source": [
    "from datasets import load_dataset\n",
    "\n",
    "dataset = load_dataset('Zhiqiang007/MathV360K', split='train', download_mode=\"force_redownload\" ) # choose the test set"
   ]
  },
  {
   "cell_type": "code",
   "execution_count": 3,
   "metadata": {},
   "outputs": [
    {
     "name": "stdout",
     "output_type": "stream",
     "text": [
      "{'id': 'identity_12', 'image': 'DVQA/images/bar_train_00134045.png', 'conversations': [{'from': 'human', 'value': '<image>\\nHint: Please answer the question and provide the final answer at the end.\\nQuestion: Which item sold the least number of units summed across all the stores?'}, {'from': 'gpt', 'value': 'The answer is maid'}]}\n",
      "# id\n",
      "identity_12\n",
      "\n",
      "# image\n",
      "DVQA/images/bar_train_00134045.png\n",
      "\n",
      "# conversations\n",
      "[{'from': 'human', 'value': '<image>\\nHint: Please answer the question and provide the final answer at the end.\\nQuestion: Which item sold the least number of units summed across all the stores?'}, {'from': 'gpt', 'value': 'The answer is maid'}]\n",
      "\n"
     ]
    }
   ],
   "source": [
    "example = dataset[12]\n",
    "print(example)\n",
    "\n",
    "\n",
    "for key, value in example.items():\n",
    "    print(\"#\", key)\n",
    "    print(value)\n",
    "    print(\"\")"
   ]
  }
 ],
 "metadata": {
  "kernelspec": {
   "display_name": "rllm",
   "language": "python",
   "name": "python3"
  },
  "language_info": {
   "codemirror_mode": {
    "name": "ipython",
    "version": 3
   },
   "file_extension": ".py",
   "mimetype": "text/x-python",
   "name": "python",
   "nbconvert_exporter": "python",
   "pygments_lexer": "ipython3",
   "version": "3.10.18"
  }
 },
 "nbformat": 4,
 "nbformat_minor": 2
}
