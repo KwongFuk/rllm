{
 "cells": [
  {
   "cell_type": "code",
   "execution_count": 6,
   "metadata": {},
   "outputs": [],
   "source": [
    "from datasets import load_dataset\n",
    "from datasets.features import Image  # ✅ 注意这里\n",
    "\n",
    "# Login using e.g. `huggingface-cli login` to access this dataset\n",
    "ds = load_dataset(\"MathLLMs/MathVision\")"
   ]
  },
  {
   "cell_type": "code",
   "execution_count": 7,
   "metadata": {},
   "outputs": [
    {
     "name": "stderr",
     "output_type": "stream",
     "text": [
      "Generating test split: 100%|██████████| 3040/3040 [00:00<00:00, 11476.60 examples/s]\n",
      "Generating testmini split: 100%|██████████| 304/304 [00:00<00:00, 7145.56 examples/s]\n"
     ]
    }
   ],
   "source": [
    "from datasets import load_dataset\n",
    "\n",
    "dataset = load_dataset('MathLLMs/MathVision', split='testmini', download_mode=\"force_redownload\" ) # choose the test set"
   ]
  },
  {
   "cell_type": "code",
   "execution_count": 8,
   "metadata": {},
   "outputs": [
    {
     "name": "stdout",
     "output_type": "stream",
     "text": [
      "{'id': '28', 'question': 'There are more grey squares than white. How many more?\\n<image1>', 'options': [], 'image': 'images/28.jpg', 'decoded_image': <PIL.JpegImagePlugin.JpegImageFile image mode=RGB size=441x429 at 0x7FC51944CB80>, 'answer': '9', 'solution': None, 'level': 1, 'subject': 'counting'}\n",
      "# id\n",
      "28\n",
      "\n",
      "# question\n",
      "There are more grey squares than white. How many more?\n",
      "<image1>\n",
      "\n",
      "# options\n",
      "[]\n",
      "\n",
      "# image\n",
      "images/28.jpg\n",
      "\n",
      "# decoded_image\n",
      "<PIL.JpegImagePlugin.JpegImageFile image mode=RGB size=441x429 at 0x7FC51944CB80>\n",
      "\n",
      "# answer\n",
      "9\n",
      "\n",
      "# solution\n",
      "None\n",
      "\n",
      "# level\n",
      "1\n",
      "\n",
      "# subject\n",
      "counting\n",
      "\n"
     ]
    }
   ],
   "source": [
    "example = dataset[12]\n",
    "print(example)\n",
    "\n",
    "\n",
    "for key, value in example.items():\n",
    "    print(\"#\", key)\n",
    "    print(value)\n",
    "    print(\"\")"
   ]
  }
 ],
 "metadata": {
  "kernelspec": {
   "display_name": "rllm",
   "language": "python",
   "name": "python3"
  },
  "language_info": {
   "codemirror_mode": {
    "name": "ipython",
    "version": 3
   },
   "file_extension": ".py",
   "mimetype": "text/x-python",
   "name": "python",
   "nbconvert_exporter": "python",
   "pygments_lexer": "ipython3",
   "version": "3.10.18"
  }
 },
 "nbformat": 4,
 "nbformat_minor": 2
}
