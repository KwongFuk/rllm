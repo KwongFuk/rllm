{
 "cells": [
  {
   "cell_type": "code",
   "execution_count": null,
   "metadata": {
    "vscode": {
     "languageId": "plaintext"
    }
   },
   "outputs": [],
   "source": [
    "from modelscope import snapshot_download\n",
    "\n",
    "# 替换为你想要的模型 ID\n",
    "model_id = 'Qwen/Qwen2.5-VL-32B-Instruct'\n",
    "model_dir = snapshot_download(model_id=model_id)\n",
    "print(f\"模型已下载到：{model_dir}\")\n"
   ]
  }
 ],
 "metadata": {
  "language_info": {
   "name": "python"
  }
 },
 "nbformat": 4,
 "nbformat_minor": 2
}
