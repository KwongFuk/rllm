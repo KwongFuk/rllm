{
 "cells": [
  {
   "cell_type": "code",
   "execution_count": null,
   "metadata": {},
   "outputs": [
    {
     "name": "stderr",
     "output_type": "stream",
     "text": [
      "/home/yue/anaconda3/envs/rllm/lib/python3.10/site-packages/tqdm/auto.py:21: TqdmWarning: IProgress not found. Please update jupyter and ipywidgets. See https://ipywidgets.readthedocs.io/en/stable/user_install.html\n",
      "  from .autonotebook import tqdm as notebook_tqdm\n"
     ]
    }
   ],
   "source": [
    "from datasets import load_dataset\n",
    "from datasets.features import Image  # ✅ 注意这里\n",
    "\n",
    "# Login using e.g. `huggingface-cli login` to access this dataset\n",
    "ds = load_dataset(\"MathLLMs/MathVision\")"
   ]
  },
  {
   "cell_type": "code",
   "execution_count": 13,
   "metadata": {},
   "outputs": [
    {
     "name": "stderr",
     "output_type": "stream",
     "text": [
      "Generating test split: 100%|██████████| 3040/3040 [00:00<00:00, 11264.84 examples/s]\n",
      "Generating testmini split: 100%|██████████| 304/304 [00:00<00:00, 6373.49 examples/s]\n"
     ]
    }
   ],
   "source": [
    "from datasets import load_dataset\n",
    "\n",
    "dataset = load_dataset('MathLLMs/MathVision', split='testmini', download_mode=\"force_redownload\" ) # choose the test set"
   ]
  },
  {
   "cell_type": "code",
   "execution_count": 14,
   "metadata": {},
   "outputs": [
    {
     "ename": "TypeError",
     "evalue": "'module' object is not callable",
     "output_type": "error",
     "traceback": [
      "\u001b[0;31m---------------------------------------------------------------------------\u001b[0m",
      "\u001b[0;31mTypeError\u001b[0m                                 Traceback (most recent call last)",
      "Cell \u001b[0;32mIn[14], line 1\u001b[0m\n\u001b[0;32m----> 1\u001b[0m dataset \u001b[38;5;241m=\u001b[39m dataset\u001b[38;5;241m.\u001b[39mcast_column(\u001b[38;5;124m\"\u001b[39m\u001b[38;5;124mimage\u001b[39m\u001b[38;5;124m\"\u001b[39m, \u001b[43mImage\u001b[49m\u001b[43m(\u001b[49m\u001b[43m)\u001b[49m)  \u001b[38;5;66;03m# 这样就可以了\u001b[39;00m\n",
      "\u001b[0;31mTypeError\u001b[0m: 'module' object is not callable"
     ]
    }
   ],
   "source": [
    "dataset = dataset.cast_column(\"image\", Image())  # 这样就可以了"
   ]
  },
  {
   "cell_type": "code",
   "execution_count": 9,
   "metadata": {},
   "outputs": [
    {
     "name": "stdout",
     "output_type": "stream",
     "text": [
      "{'id': '28', 'question': 'There are more grey squares than white. How many more?\\n<image1>', 'options': [], 'image': 'images/28.jpg', 'decoded_image': <PIL.JpegImagePlugin.JpegImageFile image mode=RGB size=441x429 at 0x7FDAF06B5390>, 'answer': '9', 'solution': None, 'level': 1, 'subject': 'counting'}\n",
      "# id\n",
      "28\n",
      "\n",
      "# question\n",
      "There are more grey squares than white. How many more?\n",
      "<image1>\n",
      "\n",
      "# options\n",
      "[]\n",
      "\n",
      "# image\n",
      "images/28.jpg\n",
      "\n",
      "# decoded_image\n",
      "<PIL.JpegImagePlugin.JpegImageFile image mode=RGB size=441x429 at 0x7FDAF06B5390>\n",
      "\n",
      "# answer\n",
      "9\n",
      "\n",
      "# solution\n",
      "None\n",
      "\n",
      "# level\n",
      "1\n",
      "\n",
      "# subject\n",
      "counting\n",
      "\n"
     ]
    }
   ],
   "source": [
    "example = dataset[12]\n",
    "print(example)\n",
    "\n",
    "\n",
    "for key, value in example.items():\n",
    "    print(\"#\", key)\n",
    "    print(value)\n",
    "    print(\"\")"
   ]
  },
  {
   "cell_type": "code",
   "execution_count": 10,
   "metadata": {},
   "outputs": [
    {
     "ename": "KeyError",
     "evalue": "'image_path'",
     "output_type": "error",
     "traceback": [
      "\u001b[0;31m---------------------------------------------------------------------------\u001b[0m",
      "\u001b[0;31mKeyError\u001b[0m                                  Traceback (most recent call last)",
      "Cell \u001b[0;32mIn[10], line 3\u001b[0m\n\u001b[1;32m      1\u001b[0m \u001b[38;5;28;01mfrom\u001b[39;00m\u001b[38;5;250m \u001b[39m\u001b[38;5;21;01mPIL\u001b[39;00m\u001b[38;5;250m \u001b[39m\u001b[38;5;28;01mimport\u001b[39;00m Image\n\u001b[0;32m----> 3\u001b[0m img_path \u001b[38;5;241m=\u001b[39m \u001b[43mexample\u001b[49m\u001b[43m[\u001b[49m\u001b[38;5;124;43m\"\u001b[39;49m\u001b[38;5;124;43mimage_path\u001b[39;49m\u001b[38;5;124;43m\"\u001b[39;49m\u001b[43m]\u001b[49m\n\u001b[1;32m      5\u001b[0m \u001b[38;5;66;03m# 打开并显示图片\u001b[39;00m\n\u001b[1;32m      6\u001b[0m img \u001b[38;5;241m=\u001b[39m Image\u001b[38;5;241m.\u001b[39mopen(img_path)\u001b[38;5;241m.\u001b[39mconvert(\u001b[38;5;124m\"\u001b[39m\u001b[38;5;124mRGB\u001b[39m\u001b[38;5;124m\"\u001b[39m)\n",
      "\u001b[0;31mKeyError\u001b[0m: 'image_path'"
     ]
    }
   ],
   "source": [
    "from PIL import Image\n",
    "\n",
    "img_path = example[\"image_path\"]\n",
    "\n",
    "# 打开并显示图片\n",
    "img = Image.open(img_path).convert(\"RGB\")\n",
    "img.show()  # 在本地系统图片查看器打开\n",
    "\n",
    "# 如果在 Jupyter / ipynb 中\n",
    "from IPython.display import display\n",
    "display(img)\n"
   ]
  }
 ],
 "metadata": {
  "kernelspec": {
   "display_name": "rllm",
   "language": "python",
   "name": "python3"
  },
  "language_info": {
   "codemirror_mode": {
    "name": "ipython",
    "version": 3
   },
   "file_extension": ".py",
   "mimetype": "text/x-python",
   "name": "python",
   "nbconvert_exporter": "python",
   "pygments_lexer": "ipython3",
   "version": "3.10.18"
  }
 },
 "nbformat": 4,
 "nbformat_minor": 2
}
